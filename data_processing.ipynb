{
 "cells": [
  {
   "cell_type": "code",
   "execution_count": 58,
   "id": "06300ad4",
   "metadata": {},
   "outputs": [],
   "source": [
    "import random\n",
    "import pandas as pd\n",
    "import matplotlib.pyplot as plt\n",
    "import "
   ]
  },
  {
   "cell_type": "markdown",
   "id": "e5600fc2",
   "metadata": {},
   "source": [
    "### Simple data cleaning"
   ]
  },
  {
   "cell_type": "code",
   "execution_count": 34,
   "id": "b6ec329d",
   "metadata": {},
   "outputs": [],
   "source": [
    "FULL_DATA = 'data/training.1600000.processed.noemoticon.csv'\n",
    "cols = ['sentiment', 'id', 'date', 'query_string', 'user', 'text']\n",
    "df_full = pd.read_csv(FULL_DATA, names=cols, encoding='latin-1')"
   ]
  },
  {
   "cell_type": "code",
   "execution_count": 35,
   "id": "6d686e08",
   "metadata": {},
   "outputs": [
    {
     "data": {
      "text/html": [
       "<div>\n",
       "<style scoped>\n",
       "    .dataframe tbody tr th:only-of-type {\n",
       "        vertical-align: middle;\n",
       "    }\n",
       "\n",
       "    .dataframe tbody tr th {\n",
       "        vertical-align: top;\n",
       "    }\n",
       "\n",
       "    .dataframe thead th {\n",
       "        text-align: right;\n",
       "    }\n",
       "</style>\n",
       "<table border=\"1\" class=\"dataframe\">\n",
       "  <thead>\n",
       "    <tr style=\"text-align: right;\">\n",
       "      <th></th>\n",
       "      <th>sentiment</th>\n",
       "      <th>id</th>\n",
       "      <th>date</th>\n",
       "      <th>query_string</th>\n",
       "      <th>user</th>\n",
       "      <th>text</th>\n",
       "    </tr>\n",
       "  </thead>\n",
       "  <tbody>\n",
       "    <tr>\n",
       "      <th>0</th>\n",
       "      <td>0</td>\n",
       "      <td>1467810369</td>\n",
       "      <td>Mon Apr 06 22:19:45 PDT 2009</td>\n",
       "      <td>NO_QUERY</td>\n",
       "      <td>_TheSpecialOne_</td>\n",
       "      <td>@switchfoot http://twitpic.com/2y1zl - Awww, t...</td>\n",
       "    </tr>\n",
       "    <tr>\n",
       "      <th>1</th>\n",
       "      <td>0</td>\n",
       "      <td>1467810672</td>\n",
       "      <td>Mon Apr 06 22:19:49 PDT 2009</td>\n",
       "      <td>NO_QUERY</td>\n",
       "      <td>scotthamilton</td>\n",
       "      <td>is upset that he can't update his Facebook by ...</td>\n",
       "    </tr>\n",
       "    <tr>\n",
       "      <th>2</th>\n",
       "      <td>0</td>\n",
       "      <td>1467810917</td>\n",
       "      <td>Mon Apr 06 22:19:53 PDT 2009</td>\n",
       "      <td>NO_QUERY</td>\n",
       "      <td>mattycus</td>\n",
       "      <td>@Kenichan I dived many times for the ball. Man...</td>\n",
       "    </tr>\n",
       "    <tr>\n",
       "      <th>3</th>\n",
       "      <td>0</td>\n",
       "      <td>1467811184</td>\n",
       "      <td>Mon Apr 06 22:19:57 PDT 2009</td>\n",
       "      <td>NO_QUERY</td>\n",
       "      <td>ElleCTF</td>\n",
       "      <td>my whole body feels itchy and like its on fire</td>\n",
       "    </tr>\n",
       "    <tr>\n",
       "      <th>4</th>\n",
       "      <td>0</td>\n",
       "      <td>1467811193</td>\n",
       "      <td>Mon Apr 06 22:19:57 PDT 2009</td>\n",
       "      <td>NO_QUERY</td>\n",
       "      <td>Karoli</td>\n",
       "      <td>@nationwideclass no, it's not behaving at all....</td>\n",
       "    </tr>\n",
       "  </tbody>\n",
       "</table>\n",
       "</div>"
      ],
      "text/plain": [
       "   sentiment          id                          date query_string  \\\n",
       "0          0  1467810369  Mon Apr 06 22:19:45 PDT 2009     NO_QUERY   \n",
       "1          0  1467810672  Mon Apr 06 22:19:49 PDT 2009     NO_QUERY   \n",
       "2          0  1467810917  Mon Apr 06 22:19:53 PDT 2009     NO_QUERY   \n",
       "3          0  1467811184  Mon Apr 06 22:19:57 PDT 2009     NO_QUERY   \n",
       "4          0  1467811193  Mon Apr 06 22:19:57 PDT 2009     NO_QUERY   \n",
       "\n",
       "              user                                               text  \n",
       "0  _TheSpecialOne_  @switchfoot http://twitpic.com/2y1zl - Awww, t...  \n",
       "1    scotthamilton  is upset that he can't update his Facebook by ...  \n",
       "2         mattycus  @Kenichan I dived many times for the ball. Man...  \n",
       "3          ElleCTF    my whole body feels itchy and like its on fire   \n",
       "4           Karoli  @nationwideclass no, it's not behaving at all....  "
      ]
     },
     "execution_count": 35,
     "metadata": {},
     "output_type": "execute_result"
    }
   ],
   "source": [
    "df_full.head()"
   ]
  },
  {
   "cell_type": "markdown",
   "id": "a9c9d6fb",
   "metadata": {},
   "source": [
    "Target is sentiment. 0 for negative 4 for positive -> transforming into 0 and 1"
   ]
  },
  {
   "cell_type": "code",
   "execution_count": 36,
   "id": "d6bc7dce",
   "metadata": {
    "scrolled": true
   },
   "outputs": [
    {
     "data": {
      "text/plain": [
       "array([0, 4], dtype=int64)"
      ]
     },
     "execution_count": 36,
     "metadata": {},
     "output_type": "execute_result"
    }
   ],
   "source": [
    "df_full.sentiment.unique()"
   ]
  },
  {
   "cell_type": "code",
   "execution_count": 50,
   "id": "13466187",
   "metadata": {},
   "outputs": [],
   "source": [
    "df_full['target'] = df_full['sentiment'].apply(lambda x: 1 if x==4 else 0)"
   ]
  },
  {
   "cell_type": "markdown",
   "id": "a4913c7a",
   "metadata": {},
   "source": [
    "Query string is constant, can be dropped"
   ]
  },
  {
   "cell_type": "code",
   "execution_count": 39,
   "id": "fcae02bd",
   "metadata": {
    "scrolled": true
   },
   "outputs": [
    {
     "data": {
      "text/plain": [
       "array(['NO_QUERY'], dtype=object)"
      ]
     },
     "execution_count": 39,
     "metadata": {},
     "output_type": "execute_result"
    }
   ],
   "source": [
    "df_full.query_string.unique()"
   ]
  },
  {
   "cell_type": "markdown",
   "id": "5338f3ba",
   "metadata": {},
   "source": [
    "Retaining user for data exploratory purposes"
   ]
  },
  {
   "cell_type": "code",
   "execution_count": 51,
   "id": "43b39240",
   "metadata": {},
   "outputs": [],
   "source": [
    "df_processed = df_full[['user', 'text', 'target']]"
   ]
  },
  {
   "cell_type": "code",
   "execution_count": 52,
   "id": "806e5e57",
   "metadata": {},
   "outputs": [
    {
     "data": {
      "text/html": [
       "<div>\n",
       "<style scoped>\n",
       "    .dataframe tbody tr th:only-of-type {\n",
       "        vertical-align: middle;\n",
       "    }\n",
       "\n",
       "    .dataframe tbody tr th {\n",
       "        vertical-align: top;\n",
       "    }\n",
       "\n",
       "    .dataframe thead th {\n",
       "        text-align: right;\n",
       "    }\n",
       "</style>\n",
       "<table border=\"1\" class=\"dataframe\">\n",
       "  <thead>\n",
       "    <tr style=\"text-align: right;\">\n",
       "      <th></th>\n",
       "      <th>user</th>\n",
       "      <th>text</th>\n",
       "      <th>target</th>\n",
       "    </tr>\n",
       "  </thead>\n",
       "  <tbody>\n",
       "    <tr>\n",
       "      <th>0</th>\n",
       "      <td>_TheSpecialOne_</td>\n",
       "      <td>@switchfoot http://twitpic.com/2y1zl - Awww, t...</td>\n",
       "      <td>0</td>\n",
       "    </tr>\n",
       "    <tr>\n",
       "      <th>1</th>\n",
       "      <td>scotthamilton</td>\n",
       "      <td>is upset that he can't update his Facebook by ...</td>\n",
       "      <td>0</td>\n",
       "    </tr>\n",
       "    <tr>\n",
       "      <th>2</th>\n",
       "      <td>mattycus</td>\n",
       "      <td>@Kenichan I dived many times for the ball. Man...</td>\n",
       "      <td>0</td>\n",
       "    </tr>\n",
       "    <tr>\n",
       "      <th>3</th>\n",
       "      <td>ElleCTF</td>\n",
       "      <td>my whole body feels itchy and like its on fire</td>\n",
       "      <td>0</td>\n",
       "    </tr>\n",
       "    <tr>\n",
       "      <th>4</th>\n",
       "      <td>Karoli</td>\n",
       "      <td>@nationwideclass no, it's not behaving at all....</td>\n",
       "      <td>0</td>\n",
       "    </tr>\n",
       "  </tbody>\n",
       "</table>\n",
       "</div>"
      ],
      "text/plain": [
       "              user                                               text  target\n",
       "0  _TheSpecialOne_  @switchfoot http://twitpic.com/2y1zl - Awww, t...       0\n",
       "1    scotthamilton  is upset that he can't update his Facebook by ...       0\n",
       "2         mattycus  @Kenichan I dived many times for the ball. Man...       0\n",
       "3          ElleCTF    my whole body feels itchy and like its on fire        0\n",
       "4           Karoli  @nationwideclass no, it's not behaving at all....       0"
      ]
     },
     "execution_count": 52,
     "metadata": {},
     "output_type": "execute_result"
    }
   ],
   "source": [
    "df_processed.head()"
   ]
  },
  {
   "cell_type": "code",
   "execution_count": 53,
   "id": "14bd122b",
   "metadata": {},
   "outputs": [
    {
     "data": {
      "text/plain": [
       "array([0, 1], dtype=int64)"
      ]
     },
     "execution_count": 53,
     "metadata": {},
     "output_type": "execute_result"
    }
   ],
   "source": [
    "df_processed.target.unique()"
   ]
  },
  {
   "cell_type": "code",
   "execution_count": 54,
   "id": "80dcd189",
   "metadata": {},
   "outputs": [
    {
     "data": {
      "text/plain": [
       "array(['_TheSpecialOne_', 'scotthamilton', 'mattycus', ..., 'EvolveTom',\n",
       "       'AmandaMarie1028', 'bpbabe'], dtype=object)"
      ]
     },
     "execution_count": 54,
     "metadata": {},
     "output_type": "execute_result"
    }
   ],
   "source": [
    "df_processed.user.unique()"
   ]
  },
  {
   "cell_type": "markdown",
   "id": "af35fa9d",
   "metadata": {},
   "source": [
    "### Exploratory Analysis"
   ]
  },
  {
   "cell_type": "markdown",
   "id": "a52b32e1",
   "metadata": {},
   "source": [
    "#### Users"
   ]
  },
  {
   "cell_type": "code",
   "execution_count": 67,
   "id": "b830d2ac",
   "metadata": {},
   "outputs": [
    {
     "data": {
      "text/plain": [
       "659775"
      ]
     },
     "execution_count": 67,
     "metadata": {},
     "output_type": "execute_result"
    }
   ],
   "source": [
    "len(df_processed.user.unique())"
   ]
  },
  {
   "cell_type": "code",
   "execution_count": 63,
   "id": "ae78c1ab",
   "metadata": {},
   "outputs": [
    {
     "data": {
      "text/plain": [
       "user\n",
       "dancelikejordan      1\n",
       "havin_an_affair      1\n",
       "havicyeo             1\n",
       "haveyoumettony       1\n",
       "havetoexplode        1\n",
       "                  ... \n",
       "VioletsCRUK        279\n",
       "SallytheShizzle    281\n",
       "tweetpet           310\n",
       "webwoke            345\n",
       "lost_dog           549\n",
       "Name: target, Length: 659775, dtype: int64"
      ]
     },
     "execution_count": 63,
     "metadata": {},
     "output_type": "execute_result"
    }
   ],
   "source": [
    "users_tweets = df_processed.groupby('user')['target'].count().sort_values()\n",
    "users_tweets"
   ]
  },
  {
   "cell_type": "markdown",
   "id": "ce8ba434",
   "metadata": {},
   "source": [
    "Only 22k users out of 660k post 10 or more tweets"
   ]
  },
  {
   "cell_type": "code",
   "execution_count": 68,
   "id": "9d0af4ab",
   "metadata": {},
   "outputs": [
    {
     "data": {
      "text/plain": [
       "21875"
      ]
     },
     "execution_count": 68,
     "metadata": {},
     "output_type": "execute_result"
    }
   ],
   "source": [
    "sum(users_tweets >= 10)"
   ]
  },
  {
   "cell_type": "markdown",
   "id": "df5c4f37",
   "metadata": {},
   "source": [
    "Many users are extreme? i.e. always posting positive or negative comments"
   ]
  },
  {
   "cell_type": "code",
   "execution_count": 73,
   "id": "5030f8db",
   "metadata": {},
   "outputs": [],
   "source": [
    "heavy_users = users_tweets[users_tweets >= 10].index\n",
    "df_heavy_users = df_processed[df_processed.user.isin(heavy_users)][['user', 'target']]"
   ]
  },
  {
   "cell_type": "code",
   "execution_count": 80,
   "id": "b5eb9ff2",
   "metadata": {},
   "outputs": [],
   "source": [
    "polarities = df_heavy_users.groupby('user')['target'].sum() / df_heavy_users.groupby('user')['target'].count()"
   ]
  },
  {
   "cell_type": "code",
   "execution_count": 83,
   "id": "c3ba8011",
   "metadata": {
    "scrolled": true
   },
   "outputs": [
    {
     "data": {
      "text/plain": [
       "Text(0.5, 1.0, 'User Polarity')"
      ]
     },
     "execution_count": 83,
     "metadata": {},
     "output_type": "execute_result"
    },
    {
     "data": {
      "image/png": "[encoded data removed]",
      "text/plain": [
       "<Figure size 432x288 with 1 Axes>"
      ]
     },
     "metadata": {
      "needs_background": "light"
     },
     "output_type": "display_data"
    }
   ],
   "source": [
    "plt.hist(polarities, bins=20)\n",
    "plt.title('User Polarity')"
   ]
  },
  {
   "cell_type": "markdown",
   "id": "de2efead",
   "metadata": {},
   "source": [
    "No clear evidence of users tending to be always positive or always negative"
   ]
  },
  {
   "cell_type": "markdown",
   "id": "29d292d8",
   "metadata": {},
   "source": [
    "### Text data processing (some parts should be considered improvements and should go after Baseline)"
   ]
  },
  {
   "cell_type": "markdown",
   "id": "7dac4a12",
   "metadata": {},
   "source": [
    "Emoji Processing"
   ]
  },
  {
   "cell_type": "code",
   "execution_count": 86,
   "id": "9148d9de",
   "metadata": {},
   "outputs": [],
   "source": [
    "# TODO: check if tweets contain emojis"
   ]
  },
  {
   "cell_type": "markdown",
   "id": "985c267e",
   "metadata": {},
   "source": [
    "User Handle Processing"
   ]
  },
  {
   "cell_type": "code",
   "execution_count": null,
   "id": "0be361fd",
   "metadata": {},
   "outputs": [],
   "source": [
    "# TODO"
   ]
  },
  {
   "cell_type": "markdown",
   "id": "3494d8e1",
   "metadata": {},
   "source": [
    "Hashtag Processing"
   ]
  },
  {
   "cell_type": "code",
   "execution_count": null,
   "id": "56c2a394",
   "metadata": {},
   "outputs": [],
   "source": [
    "# TODO"
   ]
  },
  {
   "cell_type": "markdown",
   "id": "3aed52ed",
   "metadata": {},
   "source": [
    "Other Processing"
   ]
  },
  {
   "cell_type": "code",
   "execution_count": null,
   "id": "a3167b72",
   "metadata": {},
   "outputs": [],
   "source": [
    "# TODO"
   ]
  },
  {
   "cell_type": "markdown",
   "id": "368a5605",
   "metadata": {},
   "source": [
    "### Train Test Split"
   ]
  },
  {
   "cell_type": "code",
   "execution_count": 92,
   "id": "72876249",
   "metadata": {},
   "outputs": [
    {
     "name": "stdout",
     "output_type": "stream",
     "text": [
      "Train set has total 1440000 entries with 49.97% negative, 50.03% positive\n",
      "Validation set has total 80000 entries with 50.27% negative, 49.73% positive\n",
      "Test set has total 80000 entries with 50.18% negative, 49.82% positive\n"
     ]
    }
   ],
   "source": [
    "from sklearn.model_selection import train_test_split\n",
    "\n",
    "x = df_processed.text\n",
    "y = df_processed.target\n",
    "\n",
    "SEED = 2000\n",
    "\n",
    "#split clean data to two sets: training, validation and test\n",
    "x_train, x_validation_and_test, y_train, y_validation_and_test = train_test_split(x, y, test_size=.1, random_state=SEED)\n",
    "#split the second set into two other sets : validation , test \n",
    "x_validation, x_test, y_validation, y_test = train_test_split(x_validation_and_test, y_validation_and_test, test_size=.5, random_state=SEED)\n",
    "\n",
    "\n",
    "print (\"Train set has total {0} entries with {1:.2f}% negative, {2:.2f}% positive\".format(len(x_train),(len(x_train[y_train == 0]) / (len(x_train)*1.))*100,(len(x_train[y_train == 1]) / (len(x_train)*1.))*100))\n",
    "\n",
    "print (\"Validation set has total {0} entries with {1:.2f}% negative, {2:.2f}% positive\".format(len(x_validation),(len(x_validation[y_validation == 0]) / (len(x_validation)*1.))*100,(len(x_validation[y_validation == 1]) / (len(x_validation)*1.))*100))\n",
    "\n",
    "print (\"Test set has total {0} entries with {1:.2f}% negative, {2:.2f}% positive\".format(len(x_test),(len(x_test[y_test == 0]) / (len(x_test)*1.))*100,(len(x_test[y_test == 1]) / (len(x_test)*1.))*100))\n"
   ]
  },
  {
   "cell_type": "markdown",
   "id": "a04d103e",
   "metadata": {},
   "source": [
    "### Baseline"
   ]
  },
  {
   "cell_type": "code",
   "execution_count": 95,
   "id": "b411e922",
   "metadata": {},
   "outputs": [],
   "source": [
    "# use some naive model or cite previous paper? \n",
    "# 1. use some naive model - like sentiment lexicon and classify positive if most words are positive\n",
    "# - pros: can replicate\n",
    "# 2. use previous research results\n",
    "# - concerns: may not be able to find original source code to replicate baseline results"
   ]
  },
  {
   "cell_type": "markdown",
   "id": "9e0a02dc",
   "metadata": {},
   "source": [
    "#### TwitrRatr - same baseline as https://www-cs.stanford.edu/people/alecmgo/papers/TwitterDistantSupervision09.pdf"
   ]
  },
  {
   "cell_type": "code",
   "execution_count": 97,
   "id": "7498e9f2",
   "metadata": {},
   "outputs": [],
   "source": [
    "# TODO : CANNOT FIND LIST OF POSITIVE/NEGATIVE WORDS MENTIONED IN THE PAPER???"
   ]
  },
  {
   "cell_type": "code",
   "execution_count": null,
   "id": "8c2314fe",
   "metadata": {},
   "outputs": [],
   "source": []
  }
 ],
 "metadata": {
  "kernelspec": {
   "display_name": "Python 3 (ipykernel)",
   "language": "python",
   "name": "python3"
  },
  "language_info": {
   "codemirror_mode": {
    "name": "ipython",
    "version": 3
   },
   "file_extension": ".py",
   "mimetype": "text/x-python",
   "name": "python",
   "nbconvert_exporter": "python",
   "pygments_lexer": "ipython3",
   "version": "3.9.7"
  }
 },
 "nbformat": 4,
 "nbformat_minor": 5
}
