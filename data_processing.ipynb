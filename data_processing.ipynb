{
 "cells": [
  {
   "cell_type": "code",
   "execution_count": 121,
   "id": "2bfd66d9",
   "metadata": {},
   "outputs": [],
   "source": [
    "import re\n",
    "import random\n",
    "import pandas as pd\n",
    "import matplotlib.pyplot as plt"
   ]
  },
  {
   "cell_type": "markdown",
   "id": "f62d4dfd",
   "metadata": {},
   "source": [
    "### Simple data cleaning"
   ]
  },
  {
   "cell_type": "code",
   "execution_count": 161,
   "id": "c7913f83",
   "metadata": {},
   "outputs": [],
   "source": [
    "FULL_DATA = 'data/training.1600000.processed.noemoticon.csv'\n",
    "cols = ['sentiment', 'id', 'date', 'query_string', 'user', 'text']\n",
    "df_full = pd.read_csv(FULL_DATA, names=cols, encoding='latin-1')"
   ]
  },
  {
   "cell_type": "code",
   "execution_count": 162,
   "id": "dda28258",
   "metadata": {},
   "outputs": [
    {
     "data": {
      "text/html": [
       "<div>\n",
       "<style scoped>\n",
       "    .dataframe tbody tr th:only-of-type {\n",
       "        vertical-align: middle;\n",
       "    }\n",
       "\n",
       "    .dataframe tbody tr th {\n",
       "        vertical-align: top;\n",
       "    }\n",
       "\n",
       "    .dataframe thead th {\n",
       "        text-align: right;\n",
       "    }\n",
       "</style>\n",
       "<table border=\"1\" class=\"dataframe\">\n",
       "  <thead>\n",
       "    <tr style=\"text-align: right;\">\n",
       "      <th></th>\n",
       "      <th>sentiment</th>\n",
       "      <th>id</th>\n",
       "      <th>date</th>\n",
       "      <th>query_string</th>\n",
       "      <th>user</th>\n",
       "      <th>text</th>\n",
       "    </tr>\n",
       "  </thead>\n",
       "  <tbody>\n",
       "    <tr>\n",
       "      <th>0</th>\n",
       "      <td>0</td>\n",
       "      <td>1467810369</td>\n",
       "      <td>Mon Apr 06 22:19:45 PDT 2009</td>\n",
       "      <td>NO_QUERY</td>\n",
       "      <td>_TheSpecialOne_</td>\n",
       "      <td>@switchfoot http://twitpic.com/2y1zl - Awww, t...</td>\n",
       "    </tr>\n",
       "    <tr>\n",
       "      <th>1</th>\n",
       "      <td>0</td>\n",
       "      <td>1467810672</td>\n",
       "      <td>Mon Apr 06 22:19:49 PDT 2009</td>\n",
       "      <td>NO_QUERY</td>\n",
       "      <td>scotthamilton</td>\n",
       "      <td>is upset that he can't update his Facebook by ...</td>\n",
       "    </tr>\n",
       "    <tr>\n",
       "      <th>2</th>\n",
       "      <td>0</td>\n",
       "      <td>1467810917</td>\n",
       "      <td>Mon Apr 06 22:19:53 PDT 2009</td>\n",
       "      <td>NO_QUERY</td>\n",
       "      <td>mattycus</td>\n",
       "      <td>@Kenichan I dived many times for the ball. Man...</td>\n",
       "    </tr>\n",
       "    <tr>\n",
       "      <th>3</th>\n",
       "      <td>0</td>\n",
       "      <td>1467811184</td>\n",
       "      <td>Mon Apr 06 22:19:57 PDT 2009</td>\n",
       "      <td>NO_QUERY</td>\n",
       "      <td>ElleCTF</td>\n",
       "      <td>my whole body feels itchy and like its on fire</td>\n",
       "    </tr>\n",
       "    <tr>\n",
       "      <th>4</th>\n",
       "      <td>0</td>\n",
       "      <td>1467811193</td>\n",
       "      <td>Mon Apr 06 22:19:57 PDT 2009</td>\n",
       "      <td>NO_QUERY</td>\n",
       "      <td>Karoli</td>\n",
       "      <td>@nationwideclass no, it's not behaving at all....</td>\n",
       "    </tr>\n",
       "  </tbody>\n",
       "</table>\n",
       "</div>"
      ],
      "text/plain": [
       "   sentiment          id                          date query_string  \\\n",
       "0          0  1467810369  Mon Apr 06 22:19:45 PDT 2009     NO_QUERY   \n",
       "1          0  1467810672  Mon Apr 06 22:19:49 PDT 2009     NO_QUERY   \n",
       "2          0  1467810917  Mon Apr 06 22:19:53 PDT 2009     NO_QUERY   \n",
       "3          0  1467811184  Mon Apr 06 22:19:57 PDT 2009     NO_QUERY   \n",
       "4          0  1467811193  Mon Apr 06 22:19:57 PDT 2009     NO_QUERY   \n",
       "\n",
       "              user                                               text  \n",
       "0  _TheSpecialOne_  @switchfoot http://twitpic.com/2y1zl - Awww, t...  \n",
       "1    scotthamilton  is upset that he can't update his Facebook by ...  \n",
       "2         mattycus  @Kenichan I dived many times for the ball. Man...  \n",
       "3          ElleCTF    my whole body feels itchy and like its on fire   \n",
       "4           Karoli  @nationwideclass no, it's not behaving at all....  "
      ]
     },
     "execution_count": 162,
     "metadata": {},
     "output_type": "execute_result"
    }
   ],
   "source": [
    "df_full.head()"
   ]
  },
  {
   "cell_type": "markdown",
   "id": "abb78c5d",
   "metadata": {},
   "source": [
    "Target is sentiment. 0 for negative 4 for positive -> transforming into 0 and 1"
   ]
  },
  {
   "cell_type": "code",
   "execution_count": 163,
   "id": "f2fabd18",
   "metadata": {
    "scrolled": true
   },
   "outputs": [
    {
     "data": {
      "text/plain": [
       "array([0, 4], dtype=int64)"
      ]
     },
     "execution_count": 163,
     "metadata": {},
     "output_type": "execute_result"
    }
   ],
   "source": [
    "df_full.sentiment.unique()"
   ]
  },
  {
   "cell_type": "code",
   "execution_count": 164,
   "id": "8bf9a19d",
   "metadata": {},
   "outputs": [],
   "source": [
    "df_full['target'] = df_full['sentiment'].apply(lambda x: 1 if x==4 else 0)"
   ]
  },
  {
   "cell_type": "markdown",
   "id": "88d0fe68",
   "metadata": {},
   "source": [
    "Query string is constant, can be dropped"
   ]
  },
  {
   "cell_type": "code",
   "execution_count": 165,
   "id": "001a23e9",
   "metadata": {
    "scrolled": true
   },
   "outputs": [
    {
     "data": {
      "text/plain": [
       "array(['NO_QUERY'], dtype=object)"
      ]
     },
     "execution_count": 165,
     "metadata": {},
     "output_type": "execute_result"
    }
   ],
   "source": [
    "df_full.query_string.unique()"
   ]
  },
  {
   "cell_type": "markdown",
   "id": "445679fe",
   "metadata": {},
   "source": [
    "Retaining user for data exploratory purposes"
   ]
  },
  {
   "cell_type": "code",
   "execution_count": 166,
   "id": "3faa355c",
   "metadata": {},
   "outputs": [],
   "source": [
    "df_processed = df_full[['user', 'text', 'target']]"
   ]
  },
  {
   "cell_type": "code",
   "execution_count": 167,
   "id": "13b89bf8",
   "metadata": {},
   "outputs": [
    {
     "data": {
      "text/html": [
       "<div>\n",
       "<style scoped>\n",
       "    .dataframe tbody tr th:only-of-type {\n",
       "        vertical-align: middle;\n",
       "    }\n",
       "\n",
       "    .dataframe tbody tr th {\n",
       "        vertical-align: top;\n",
       "    }\n",
       "\n",
       "    .dataframe thead th {\n",
       "        text-align: right;\n",
       "    }\n",
       "</style>\n",
       "<table border=\"1\" class=\"dataframe\">\n",
       "  <thead>\n",
       "    <tr style=\"text-align: right;\">\n",
       "      <th></th>\n",
       "      <th>user</th>\n",
       "      <th>text</th>\n",
       "      <th>target</th>\n",
       "    </tr>\n",
       "  </thead>\n",
       "  <tbody>\n",
       "    <tr>\n",
       "      <th>0</th>\n",
       "      <td>_TheSpecialOne_</td>\n",
       "      <td>@switchfoot http://twitpic.com/2y1zl - Awww, t...</td>\n",
       "      <td>0</td>\n",
       "    </tr>\n",
       "    <tr>\n",
       "      <th>1</th>\n",
       "      <td>scotthamilton</td>\n",
       "      <td>is upset that he can't update his Facebook by ...</td>\n",
       "      <td>0</td>\n",
       "    </tr>\n",
       "    <tr>\n",
       "      <th>2</th>\n",
       "      <td>mattycus</td>\n",
       "      <td>@Kenichan I dived many times for the ball. Man...</td>\n",
       "      <td>0</td>\n",
       "    </tr>\n",
       "    <tr>\n",
       "      <th>3</th>\n",
       "      <td>ElleCTF</td>\n",
       "      <td>my whole body feels itchy and like its on fire</td>\n",
       "      <td>0</td>\n",
       "    </tr>\n",
       "    <tr>\n",
       "      <th>4</th>\n",
       "      <td>Karoli</td>\n",
       "      <td>@nationwideclass no, it's not behaving at all....</td>\n",
       "      <td>0</td>\n",
       "    </tr>\n",
       "  </tbody>\n",
       "</table>\n",
       "</div>"
      ],
      "text/plain": [
       "              user                                               text  target\n",
       "0  _TheSpecialOne_  @switchfoot http://twitpic.com/2y1zl - Awww, t...       0\n",
       "1    scotthamilton  is upset that he can't update his Facebook by ...       0\n",
       "2         mattycus  @Kenichan I dived many times for the ball. Man...       0\n",
       "3          ElleCTF    my whole body feels itchy and like its on fire        0\n",
       "4           Karoli  @nationwideclass no, it's not behaving at all....       0"
      ]
     },
     "execution_count": 167,
     "metadata": {},
     "output_type": "execute_result"
    }
   ],
   "source": [
    "df_processed.head()"
   ]
  },
  {
   "cell_type": "code",
   "execution_count": 168,
   "id": "0240d8ad",
   "metadata": {},
   "outputs": [
    {
     "data": {
      "text/plain": [
       "array([0, 1], dtype=int64)"
      ]
     },
     "execution_count": 168,
     "metadata": {},
     "output_type": "execute_result"
    }
   ],
   "source": [
    "df_processed.target.unique()"
   ]
  },
  {
   "cell_type": "code",
   "execution_count": 169,
   "id": "78079b34",
   "metadata": {},
   "outputs": [
    {
     "data": {
      "text/plain": [
       "array(['_TheSpecialOne_', 'scotthamilton', 'mattycus', ..., 'EvolveTom',\n",
       "       'AmandaMarie1028', 'bpbabe'], dtype=object)"
      ]
     },
     "execution_count": 169,
     "metadata": {},
     "output_type": "execute_result"
    }
   ],
   "source": [
    "df_processed.user.unique()"
   ]
  },
  {
   "cell_type": "markdown",
   "id": "d5e4e0db",
   "metadata": {},
   "source": [
    "### Exploratory Analysis"
   ]
  },
  {
   "cell_type": "markdown",
   "id": "75605d83",
   "metadata": {},
   "source": [
    "#### Users"
   ]
  },
  {
   "cell_type": "code",
   "execution_count": 170,
   "id": "68b4bb0e",
   "metadata": {},
   "outputs": [
    {
     "data": {
      "text/plain": [
       "659775"
      ]
     },
     "execution_count": 170,
     "metadata": {},
     "output_type": "execute_result"
    }
   ],
   "source": [
    "len(df_processed.user.unique())"
   ]
  },
  {
   "cell_type": "code",
   "execution_count": 171,
   "id": "db2ecbbd",
   "metadata": {},
   "outputs": [
    {
     "data": {
      "text/plain": [
       "user\n",
       "dancelikejordan      1\n",
       "havin_an_affair      1\n",
       "havicyeo             1\n",
       "haveyoumettony       1\n",
       "havetoexplode        1\n",
       "                  ... \n",
       "VioletsCRUK        279\n",
       "SallytheShizzle    281\n",
       "tweetpet           310\n",
       "webwoke            345\n",
       "lost_dog           549\n",
       "Name: target, Length: 659775, dtype: int64"
      ]
     },
     "execution_count": 171,
     "metadata": {},
     "output_type": "execute_result"
    }
   ],
   "source": [
    "users_tweets = df_processed.groupby('user')['target'].count().sort_values()\n",
    "users_tweets"
   ]
  },
  {
   "cell_type": "markdown",
   "id": "6d6923d0",
   "metadata": {},
   "source": [
    "Only 22k users out of 660k post 10 or more tweets"
   ]
  },
  {
   "cell_type": "code",
   "execution_count": 172,
   "id": "96c4e723",
   "metadata": {},
   "outputs": [
    {
     "data": {
      "text/plain": [
       "21875"
      ]
     },
     "execution_count": 172,
     "metadata": {},
     "output_type": "execute_result"
    }
   ],
   "source": [
    "sum(users_tweets >= 10)"
   ]
  },
  {
   "cell_type": "markdown",
   "id": "5870f6f5",
   "metadata": {},
   "source": [
    "Many users are extreme? i.e. always posting positive or negative comments"
   ]
  },
  {
   "cell_type": "code",
   "execution_count": 173,
   "id": "284cdc2e",
   "metadata": {},
   "outputs": [],
   "source": [
    "heavy_users = users_tweets[users_tweets >= 10].index\n",
    "df_heavy_users = df_processed[df_processed.user.isin(heavy_users)][['user', 'target']]"
   ]
  },
  {
   "cell_type": "code",
   "execution_count": 174,
   "id": "ffa66d3e",
   "metadata": {},
   "outputs": [],
   "source": [
    "polarities = df_heavy_users.groupby('user')['target'].sum() / df_heavy_users.groupby('user')['target'].count()"
   ]
  },
  {
   "cell_type": "code",
   "execution_count": 175,
   "id": "3476c1a6",
   "metadata": {
    "scrolled": true
   },
   "outputs": [
    {
     "data": {
      "text/plain": [
       "Text(0.5, 1.0, 'User Polarity')"
      ]
     },
     "execution_count": 175,
     "metadata": {},
     "output_type": "execute_result"
    },
    {
     "data": {
      "image/png": "[encoded data removed]",
      "text/plain": [
       "<Figure size 432x288 with 1 Axes>"
      ]
     },
     "metadata": {
      "needs_background": "light"
     },
     "output_type": "display_data"
    }
   ],
   "source": [
    "plt.hist(polarities, bins=20)\n",
    "plt.title('User Polarity')"
   ]
  },
  {
   "cell_type": "markdown",
   "id": "9f9c2c12",
   "metadata": {},
   "source": [
    "No clear evidence of users tending to be always positive or always negative"
   ]
  },
  {
   "cell_type": "code",
   "execution_count": 176,
   "id": "a38ce909",
   "metadata": {},
   "outputs": [],
   "source": [
    "df_processed = df_processed[['text', 'target']]"
   ]
  },
  {
   "cell_type": "markdown",
   "id": "59869e3d",
   "metadata": {},
   "source": [
    "### Text data processing (some parts should be considered improvements and should go after Baseline)"
   ]
  },
  {
   "cell_type": "markdown",
   "id": "bbbd6adc",
   "metadata": {},
   "source": [
    "Emoji Processing\n",
    "- It seems like most emojis are already stripped from the text"
   ]
  },
  {
   "cell_type": "code",
   "execution_count": 177,
   "id": "6bb8bf9f",
   "metadata": {},
   "outputs": [
    {
     "data": {
      "text/plain": [
       "1"
      ]
     },
     "execution_count": 177,
     "metadata": {},
     "output_type": "execute_result"
    }
   ],
   "source": [
    "# check if tweets contain emojis\n",
    "df_processed.text.str.contains(':D').sum()"
   ]
  },
  {
   "cell_type": "code",
   "execution_count": 178,
   "id": "b1c14c73",
   "metadata": {},
   "outputs": [
    {
     "data": {
      "text/html": [
       "<div>\n",
       "<style scoped>\n",
       "    .dataframe tbody tr th:only-of-type {\n",
       "        vertical-align: middle;\n",
       "    }\n",
       "\n",
       "    .dataframe tbody tr th {\n",
       "        vertical-align: top;\n",
       "    }\n",
       "\n",
       "    .dataframe thead th {\n",
       "        text-align: right;\n",
       "    }\n",
       "</style>\n",
       "<table border=\"1\" class=\"dataframe\">\n",
       "  <thead>\n",
       "    <tr style=\"text-align: right;\">\n",
       "      <th></th>\n",
       "      <th>text</th>\n",
       "      <th>target</th>\n",
       "    </tr>\n",
       "  </thead>\n",
       "  <tbody>\n",
       "    <tr>\n",
       "      <th>836189</th>\n",
       "      <td>::::::::::::::DDDDDDDDDDDDDDD     WOHO IM SUPE...</td>\n",
       "      <td>1</td>\n",
       "    </tr>\n",
       "  </tbody>\n",
       "</table>\n",
       "</div>"
      ],
      "text/plain": [
       "                                                     text  target\n",
       "836189  ::::::::::::::DDDDDDDDDDDDDDD     WOHO IM SUPE...       1"
      ]
     },
     "execution_count": 178,
     "metadata": {},
     "output_type": "execute_result"
    }
   ],
   "source": [
    "df_processed[df_full.text.str.contains(':D')]"
   ]
  },
  {
   "cell_type": "code",
   "execution_count": 179,
   "id": "6779adcc",
   "metadata": {},
   "outputs": [
    {
     "data": {
      "text/plain": [
       "6"
      ]
     },
     "execution_count": 179,
     "metadata": {},
     "output_type": "execute_result"
    }
   ],
   "source": [
    "df_processed.text.str.contains(':\\(').sum()"
   ]
  },
  {
   "cell_type": "code",
   "execution_count": 180,
   "id": "a7374762",
   "metadata": {},
   "outputs": [
    {
     "data": {
      "text/html": [
       "<div>\n",
       "<style scoped>\n",
       "    .dataframe tbody tr th:only-of-type {\n",
       "        vertical-align: middle;\n",
       "    }\n",
       "\n",
       "    .dataframe tbody tr th {\n",
       "        vertical-align: top;\n",
       "    }\n",
       "\n",
       "    .dataframe thead th {\n",
       "        text-align: right;\n",
       "    }\n",
       "</style>\n",
       "<table border=\"1\" class=\"dataframe\">\n",
       "  <thead>\n",
       "    <tr style=\"text-align: right;\">\n",
       "      <th></th>\n",
       "      <th>text</th>\n",
       "      <th>target</th>\n",
       "    </tr>\n",
       "  </thead>\n",
       "  <tbody>\n",
       "    <tr>\n",
       "      <th>295762</th>\n",
       "      <td>@stephanna49 lol noo mr. berst didnt read us t...</td>\n",
       "      <td>0</td>\n",
       "    </tr>\n",
       "    <tr>\n",
       "      <th>300429</th>\n",
       "      <td>I wish I was going to CineVegas.         (:(: ...</td>\n",
       "      <td>0</td>\n",
       "    </tr>\n",
       "    <tr>\n",
       "      <th>496591</th>\n",
       "      <td>@joystiq refreshing for the pas thalf hour  my...</td>\n",
       "      <td>0</td>\n",
       "    </tr>\n",
       "    <tr>\n",
       "      <th>512042</th>\n",
       "      <td>@Flombie YES YOU MUST    :::::(((( lmao, you g...</td>\n",
       "      <td>0</td>\n",
       "    </tr>\n",
       "    <tr>\n",
       "      <th>616016</th>\n",
       "      <td>@macsbabygurl Sorry I probably cant come over....</td>\n",
       "      <td>0</td>\n",
       "    </tr>\n",
       "    <tr>\n",
       "      <th>1589469</th>\n",
       "      <td>Mornin' Twit Fam! :::::REMINDER:::((((GOD LOVE...</td>\n",
       "      <td>1</td>\n",
       "    </tr>\n",
       "  </tbody>\n",
       "</table>\n",
       "</div>"
      ],
      "text/plain": [
       "                                                      text  target\n",
       "295762   @stephanna49 lol noo mr. berst didnt read us t...       0\n",
       "300429   I wish I was going to CineVegas.         (:(: ...       0\n",
       "496591   @joystiq refreshing for the pas thalf hour  my...       0\n",
       "512042   @Flombie YES YOU MUST    :::::(((( lmao, you g...       0\n",
       "616016   @macsbabygurl Sorry I probably cant come over....       0\n",
       "1589469  Mornin' Twit Fam! :::::REMINDER:::((((GOD LOVE...       1"
      ]
     },
     "execution_count": 180,
     "metadata": {},
     "output_type": "execute_result"
    }
   ],
   "source": [
    "df_processed[df_full.text.str.contains(':\\(')]"
   ]
  },
  {
   "cell_type": "markdown",
   "id": "b95134b2",
   "metadata": {},
   "source": [
    "Text Processing"
   ]
  },
  {
   "cell_type": "code",
   "execution_count": 181,
   "id": "82af03dd",
   "metadata": {},
   "outputs": [
    {
     "data": {
      "text/plain": [
       "0          @switchfoot http://twitpic.com/2y1zl - awww, t...\n",
       "1          is upset that he can't update his facebook by ...\n",
       "2          @kenichan i dived many times for the ball. man...\n",
       "3            my whole body feels itchy and like its on fire \n",
       "4          @nationwideclass no, it's not behaving at all....\n",
       "                                 ...                        \n",
       "1599995    just woke up. having no school is the best fee...\n",
       "1599996    thewdb.com - very cool to hear old walt interv...\n",
       "1599997    are you ready for your mojo makeover? ask me f...\n",
       "1599998    happy 38th birthday to my boo of alll time!!! ...\n",
       "1599999    happy #charitytuesday @thenspcc @sparkscharity...\n",
       "Name: text, Length: 1600000, dtype: object"
      ]
     },
     "execution_count": 181,
     "metadata": {},
     "output_type": "execute_result"
    }
   ],
   "source": [
    "# Change all text to lower case\n",
    "df_processed['text'] = df_processed['text'].apply(lambda x: x.lower())\n",
    "df_processed['text']"
   ]
  },
  {
   "cell_type": "markdown",
   "id": "d36ac5b7",
   "metadata": {},
   "source": [
    "User Handle Processing"
   ]
  },
  {
   "cell_type": "code",
   "execution_count": 182,
   "id": "d3de7b11",
   "metadata": {},
   "outputs": [
    {
     "data": {
      "text/plain": [
       "0          USERNAME http://twitpic.com/2y1zl - awww, that...\n",
       "1          is upset that he can't update his facebook by ...\n",
       "2          USERNAME i dived many times for the ball. mana...\n",
       "3            my whole body feels itchy and like its on fire \n",
       "4          USERNAME no, it's not behaving at all. i'm mad...\n",
       "                                 ...                        \n",
       "1599995    just woke up. having no school is the best fee...\n",
       "1599996    thewdb.com - very cool to hear old walt interv...\n",
       "1599997    are you ready for your mojo makeover? ask me f...\n",
       "1599998    happy 38th birthday to my boo of alll time!!! ...\n",
       "1599999    happy #charitytuesday USERNAME USERNAME USERNAME \n",
       "Name: text, Length: 1600000, dtype: object"
      ]
     },
     "execution_count": 182,
     "metadata": {},
     "output_type": "execute_result"
    }
   ],
   "source": [
    "user_mention = re.compile(r\"(?:(?<!\\w)@\\w+\\b)\")\n",
    "USERNAME_TOKEN = \"USERNAME\"\n",
    "# Replace any @username with USERNAME token\n",
    "df_processed['text'] = df_processed['text'].apply(lambda x: re.sub(user_mention, USERNAME_TOKEN, x))\n",
    "df_processed['text']"
   ]
  },
  {
   "cell_type": "markdown",
   "id": "e35469ed",
   "metadata": {},
   "source": [
    "URL Processing"
   ]
  },
  {
   "cell_type": "code",
   "execution_count": 183,
   "id": "695a458e",
   "metadata": {},
   "outputs": [
    {
     "data": {
      "text/plain": [
       "0          USERNAME URL - awww, that's a bummer.  you sho...\n",
       "1          is upset that he can't update his facebook by ...\n",
       "2          USERNAME i dived many times for the ball. mana...\n",
       "3            my whole body feels itchy and like its on fire \n",
       "4          USERNAME no, it's not behaving at all. i'm mad...\n",
       "                                 ...                        \n",
       "1599995    just woke up. having no school is the best fee...\n",
       "1599996    thewdb.com - very cool to hear old walt interv...\n",
       "1599997    are you ready for your mojo makeover? ask me f...\n",
       "1599998    happy 38th birthday to my boo of alll time!!! ...\n",
       "1599999    happy #charitytuesday USERNAME USERNAME USERNAME \n",
       "Name: text, Length: 1600000, dtype: object"
      ]
     },
     "execution_count": 183,
     "metadata": {},
     "output_type": "execute_result"
    }
   ],
   "source": [
    "url = re.compile(r\"(?:(http[s]?://\\S+)|((//)?(\\w+\\.)?\\w+\\.\\w+/\\S+))\")\n",
    "URL_TOKEN = \"URL\"\n",
    "df_processed['text'] = df_processed['text'].apply(lambda x: re.sub(url, URL_TOKEN, x))\n",
    "df_processed['text']"
   ]
  },
  {
   "cell_type": "markdown",
   "id": "67792392",
   "metadata": {},
   "source": [
    "Hashtag Processing"
   ]
  },
  {
   "cell_type": "code",
   "execution_count": 184,
   "id": "f5ed387e",
   "metadata": {},
   "outputs": [
    {
     "data": {
      "text/plain": [
       "0          USERNAME URL - awww, that's a bummer.  you sho...\n",
       "1          is upset that he can't update his facebook by ...\n",
       "2          USERNAME i dived many times for the ball. mana...\n",
       "3            my whole body feels itchy and like its on fire \n",
       "4          USERNAME no, it's not behaving at all. i'm mad...\n",
       "                                 ...                        \n",
       "1599995    just woke up. having no school is the best fee...\n",
       "1599996    thewdb.com - very cool to hear old walt interv...\n",
       "1599997    are you ready for your mojo makeover? ask me f...\n",
       "1599998    happy 38th birthday to my boo of alll time!!! ...\n",
       "1599999    happy  charitytuesday  USERNAME USERNAME USERN...\n",
       "Name: text, Length: 1600000, dtype: object"
      ]
     },
     "execution_count": 184,
     "metadata": {},
     "output_type": "execute_result"
    }
   ],
   "source": [
    "# replace #hashtag with hashtag\n",
    "df_processed['text'] = df_processed['text'].apply(lambda x: re.sub(r'#(\\S+)', r' \\1 ', x))\n",
    "df_processed['text']"
   ]
  },
  {
   "cell_type": "markdown",
   "id": "c34e6952",
   "metadata": {},
   "source": [
    "IDEA: hashtag tends to combine words together, like \"charitytuesday\" - maybe find a way to split hashtag words? "
   ]
  },
  {
   "cell_type": "markdown",
   "id": "f779f0b5",
   "metadata": {},
   "source": [
    "Other Processing"
   ]
  },
  {
   "cell_type": "code",
   "execution_count": 185,
   "id": "204d9e11",
   "metadata": {},
   "outputs": [
    {
     "data": {
      "text/plain": [
       "0          USERNAME URL - aww, that's a bummer.  you shou...\n",
       "1          is upset that he can't update his facebook by ...\n",
       "2          USERNAME i dived many times for the ball. mana...\n",
       "3            my whole body feels itchy and like its on fire \n",
       "4          USERNAME no, it's not behaving at all. i'm mad...\n",
       "                                 ...                        \n",
       "1599995    just woke up. having no school is the best fee...\n",
       "1599996    thewdb.com - very cool to hear old walt interv...\n",
       "1599997    are you ready for your mojo makeover? ask me f...\n",
       "1599998    happy 38th birthday to my boo of all time!!! t...\n",
       "1599999    happy  charitytuesday  USERNAME USERNAME USERN...\n",
       "Name: text, Length: 1600000, dtype: object"
      ]
     },
     "execution_count": 185,
     "metadata": {},
     "output_type": "execute_result"
    }
   ],
   "source": [
    "# remove repeated chars\n",
    "df_processed['text'] = df_processed['text'].apply(lambda x: re.sub('([a-zA-Z])\\\\1+', '\\\\1\\\\1', x))\n",
    "df_processed['text']"
   ]
  },
  {
   "cell_type": "code",
   "execution_count": 132,
   "id": "77ee2a21",
   "metadata": {},
   "outputs": [],
   "source": [
    "# remove numbers? new_row = re.sub(number, '', new_row)\n",
    "# remove repeated chars? new_row = re.sub('([a-zA-Z])\\\\1+', '\\\\1\\\\1', new_row)\n",
    "# deal with any of remaining emojis if any?"
   ]
  },
  {
   "cell_type": "markdown",
   "id": "b4bac57c",
   "metadata": {},
   "source": [
    "### Train Test Split"
   ]
  },
  {
   "cell_type": "code",
   "execution_count": 186,
   "id": "3e77e6aa",
   "metadata": {
    "scrolled": false
   },
   "outputs": [
    {
     "name": "stdout",
     "output_type": "stream",
     "text": [
      "Train set has total 1440000 entries with 49.97% negative, 50.03% positive\n",
      "Validation set has total 80000 entries with 50.27% negative, 49.73% positive\n",
      "Test set has total 80000 entries with 50.18% negative, 49.82% positive\n"
     ]
    }
   ],
   "source": [
    "from sklearn.model_selection import train_test_split\n",
    "\n",
    "x = df_processed.text\n",
    "y = df_processed.target\n",
    "\n",
    "SEED = 2000\n",
    "\n",
    "#split clean data to two sets: training, validation and test\n",
    "x_train, x_validation_and_test, y_train, y_validation_and_test = train_test_split(x, y, test_size=.1, random_state=SEED)\n",
    "#split the second set into two other sets : validation , test \n",
    "x_validation, x_test, y_validation, y_test = train_test_split(x_validation_and_test, y_validation_and_test, test_size=.5, random_state=SEED)\n",
    "\n",
    "\n",
    "print (\"Train set has total {0} entries with {1:.2f}% negative, {2:.2f}% positive\".format(len(x_train),(len(x_train[y_train == 0]) / (len(x_train)*1.))*100,(len(x_train[y_train == 1]) / (len(x_train)*1.))*100))\n",
    "\n",
    "print (\"Validation set has total {0} entries with {1:.2f}% negative, {2:.2f}% positive\".format(len(x_validation),(len(x_validation[y_validation == 0]) / (len(x_validation)*1.))*100,(len(x_validation[y_validation == 1]) / (len(x_validation)*1.))*100))\n",
    "\n",
    "print (\"Test set has total {0} entries with {1:.2f}% negative, {2:.2f}% positive\".format(len(x_test),(len(x_test[y_test == 0]) / (len(x_test)*1.))*100,(len(x_test[y_test == 1]) / (len(x_test)*1.))*100))\n"
   ]
  },
  {
   "cell_type": "markdown",
   "id": "10faf802",
   "metadata": {},
   "source": [
    "Write to CSVs"
   ]
  },
  {
   "cell_type": "code",
   "execution_count": 188,
   "id": "8a110441",
   "metadata": {},
   "outputs": [],
   "source": [
    "pd.DataFrame({'text': x_train, 'target': y_train}).to_csv('data/training.1440000.csv', index=False)\n",
    "pd.DataFrame({'text': x_validation, 'target': y_validation}).to_csv('data/validation.80000.csv', index=False)\n",
    "pd.DataFrame({'text': x_test, 'target': y_test}).to_csv('data/test.80000.csv', index=False)"
   ]
  },
  {
   "cell_type": "code",
   "execution_count": null,
   "id": "ce818260",
   "metadata": {},
   "outputs": [],
   "source": []
  }
 ],
 "metadata": {
  "kernelspec": {
   "display_name": "Python 3 (ipykernel)",
   "language": "python",
   "name": "python3"
  },
  "language_info": {
   "codemirror_mode": {
    "name": "ipython",
    "version": 3
   },
   "file_extension": ".py",
   "mimetype": "text/x-python",
   "name": "python",
   "nbconvert_exporter": "python",
   "pygments_lexer": "ipython3",
   "version": "3.9.7"
  }
 },
 "nbformat": 4,
 "nbformat_minor": 5
}
