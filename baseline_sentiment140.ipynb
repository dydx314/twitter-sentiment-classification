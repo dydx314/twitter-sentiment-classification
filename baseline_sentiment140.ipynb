{
 "cells": [
  {
   "cell_type": "code",
   "execution_count": 1,
   "id": "cff07b65",
   "metadata": {},
   "outputs": [],
   "source": [
    "import pandas as pd\n",
    "import matplotlib.pyplot as plt"
   ]
  },
  {
   "cell_type": "code",
   "execution_count": 47,
   "id": "696426c8",
   "metadata": {},
   "outputs": [
    {
     "data": {
      "text/html": [
       "<div>\n",
       "<style scoped>\n",
       "    .dataframe tbody tr th:only-of-type {\n",
       "        vertical-align: middle;\n",
       "    }\n",
       "\n",
       "    .dataframe tbody tr th {\n",
       "        vertical-align: top;\n",
       "    }\n",
       "\n",
       "    .dataframe thead th {\n",
       "        text-align: right;\n",
       "    }\n",
       "</style>\n",
       "<table border=\"1\" class=\"dataframe\">\n",
       "  <thead>\n",
       "    <tr style=\"text-align: right;\">\n",
       "      <th></th>\n",
       "      <th>text</th>\n",
       "      <th>target</th>\n",
       "    </tr>\n",
       "  </thead>\n",
       "  <tbody>\n",
       "    <tr>\n",
       "      <th>0</th>\n",
       "      <td>USERNAME yeah sure whatevs...haha you have to ...</td>\n",
       "      <td>1</td>\n",
       "    </tr>\n",
       "    <tr>\n",
       "      <th>1</th>\n",
       "      <td>USERNAME but you should always eat breakfast! ...</td>\n",
       "      <td>1</td>\n",
       "    </tr>\n",
       "    <tr>\n",
       "      <th>2</th>\n",
       "      <td>URL - apple bathrobe i got from friends for my...</td>\n",
       "      <td>1</td>\n",
       "    </tr>\n",
       "    <tr>\n",
       "      <th>3</th>\n",
       "      <td>where did the sun go? typical shitty british w...</td>\n",
       "      <td>0</td>\n",
       "    </tr>\n",
       "    <tr>\n",
       "      <th>4</th>\n",
       "      <td>cozy day at home</td>\n",
       "      <td>1</td>\n",
       "    </tr>\n",
       "  </tbody>\n",
       "</table>\n",
       "</div>"
      ],
      "text/plain": [
       "                                                text  target\n",
       "0  USERNAME yeah sure whatevs...haha you have to ...       1\n",
       "1  USERNAME but you should always eat breakfast! ...       1\n",
       "2  URL - apple bathrobe i got from friends for my...       1\n",
       "3  where did the sun go? typical shitty british w...       0\n",
       "4                                  cozy day at home        1"
      ]
     },
     "execution_count": 47,
     "metadata": {},
     "output_type": "execute_result"
    }
   ],
   "source": [
    "# run data_processing.ipynb to generate the test set here\n",
    "TEST_DATA = 'data/test.80000.csv'\n",
    "df_test = pd.read_csv(TEST_DATA)\n",
    "df_test.head()"
   ]
  },
  {
   "cell_type": "markdown",
   "id": "9759b985",
   "metadata": {},
   "source": [
    "## Baseline"
   ]
  },
  {
   "cell_type": "markdown",
   "id": "dde5d697",
   "metadata": {},
   "source": [
    "Use some naive model or cite previous paper? \n",
    "1. use some naive model - like sentiment lexicon and classify positive if most words are positive\n",
    "- pros: can replicate\n",
    "2. use previous research results\n",
    "- concerns: may not be able to find original source code to replicate baseline results"
   ]
  },
  {
   "cell_type": "markdown",
   "id": "080a1501",
   "metadata": {},
   "source": [
    "#### TwitrRatr - same baseline as https://www-cs.stanford.edu/people/alecmgo/papers/TwitterDistantSupervision09.pdf"
   ]
  },
  {
   "cell_type": "code",
   "execution_count": 2,
   "id": "f97a4cf8",
   "metadata": {},
   "outputs": [],
   "source": [
    "# TODO : CANNOT FIND LIST OF POSITIVE/NEGATIVE WORDS MENTIONED IN THE PAPER???"
   ]
  },
  {
   "cell_type": "markdown",
   "id": "d91d7e02",
   "metadata": {},
   "source": [
    "#### Opinion lexicon - https://github.com/jeffreybreen/twitter-sentiment-analysis-tutorial-201107/blob/master/data/opinion-lexicon-English/negative-words.txt"
   ]
  },
  {
   "cell_type": "code",
   "execution_count": 45,
   "id": "d8b78038",
   "metadata": {},
   "outputs": [
    {
     "data": {
      "text/plain": [
       "['a+',\n",
       " 'abound',\n",
       " 'abounds',\n",
       " 'abundance',\n",
       " 'abundant',\n",
       " 'accessable',\n",
       " 'accessible',\n",
       " 'acclaim',\n",
       " 'acclaimed',\n",
       " 'acclamation']"
      ]
     },
     "execution_count": 45,
     "metadata": {},
     "output_type": "execute_result"
    }
   ],
   "source": [
    "POSITIVE_FILE = 'data/positive-words.txt'\n",
    "positive_words = pd.read_table(POSITIVE_FILE, skiprows=34, names=['words'], encoding='ISO-8859-1')['words'].tolist()\n",
    "positive_words[:10]"
   ]
  },
  {
   "cell_type": "code",
   "execution_count": 46,
   "id": "68e9963d",
   "metadata": {},
   "outputs": [
    {
     "data": {
      "text/plain": [
       "['2-faced',\n",
       " '2-faces',\n",
       " 'abnormal',\n",
       " 'abolish',\n",
       " 'abominable',\n",
       " 'abominably',\n",
       " 'abominate',\n",
       " 'abomination',\n",
       " 'abort',\n",
       " 'aborted']"
      ]
     },
     "execution_count": 46,
     "metadata": {},
     "output_type": "execute_result"
    }
   ],
   "source": [
    "NEGATIVE_FILE = 'data/negative-words.txt'\n",
    "negative_words = pd.read_table(NEGATIVE_FILE, skiprows=34, names=['words'], encoding='ISO-8859-1')['words'].tolist()\n",
    "negative_words[:10]"
   ]
  },
  {
   "cell_type": "code",
   "execution_count": 50,
   "id": "dc4c9806",
   "metadata": {},
   "outputs": [],
   "source": [
    "# split based on all punctuations possible\n",
    "def split_tweet(tweet):\n",
    "    return \"\".join((char if char.isalpha() else \" \") for char in tweet).split()\n",
    "\n",
    "def count_pos(tweet):\n",
    "    tweet_words = split_tweet(tweet)\n",
    "    return sum([1 for w in tweet_words if w in positive_words])\n",
    "\n",
    "def count_neg(tweet):\n",
    "    tweet_words = split_tweet(tweet)\n",
    "    return sum([1 for w in tweet_words if w in negative_words])"
   ]
  },
  {
   "cell_type": "code",
   "execution_count": 52,
   "id": "c06d6878",
   "metadata": {},
   "outputs": [
    {
     "data": {
      "text/plain": [
       "'USERNAME yeah sure whatevs...haha you have to admit the sweet and innocent are by far the best and a epic win '"
      ]
     },
     "execution_count": 52,
     "metadata": {},
     "output_type": "execute_result"
    }
   ],
   "source": [
    "df_test.text[0]"
   ]
  },
  {
   "cell_type": "code",
   "execution_count": 49,
   "id": "effaecd7",
   "metadata": {},
   "outputs": [
    {
     "data": {
      "text/plain": [
       "3"
      ]
     },
     "execution_count": 49,
     "metadata": {},
     "output_type": "execute_result"
    }
   ],
   "source": [
    "count_pos(df_test.text[0])"
   ]
  },
  {
   "cell_type": "code",
   "execution_count": 51,
   "id": "233ea19c",
   "metadata": {},
   "outputs": [
    {
     "data": {
      "text/plain": [
       "0"
      ]
     },
     "execution_count": 51,
     "metadata": {},
     "output_type": "execute_result"
    }
   ],
   "source": [
    "count_neg(df_test.text[0])"
   ]
  },
  {
   "cell_type": "code",
   "execution_count": 54,
   "id": "f44b3bce",
   "metadata": {},
   "outputs": [],
   "source": [
    "pred = df_test.text.apply(lambda x: 1 if count_pos(x) - count_neg(x) >= 0 else 0)"
   ]
  },
  {
   "cell_type": "code",
   "execution_count": 58,
   "id": "4971b490",
   "metadata": {},
   "outputs": [
    {
     "data": {
      "text/plain": [
       "0        1\n",
       "1        1\n",
       "2        1\n",
       "3        1\n",
       "4        1\n",
       "        ..\n",
       "79995    1\n",
       "79996    1\n",
       "79997    1\n",
       "79998    1\n",
       "79999    0\n",
       "Name: text, Length: 80000, dtype: int64"
      ]
     },
     "execution_count": 58,
     "metadata": {},
     "output_type": "execute_result"
    }
   ],
   "source": [
    "pred"
   ]
  },
  {
   "cell_type": "markdown",
   "id": "7b518c35",
   "metadata": {},
   "source": [
    "## Evaluation Metric"
   ]
  },
  {
   "cell_type": "markdown",
   "id": "083ad240",
   "metadata": {},
   "source": [
    "TODO: What to pick for evaluation metric?"
   ]
  },
  {
   "cell_type": "markdown",
   "id": "ac23c00a",
   "metadata": {},
   "source": [
    "#### F1-score and Confusion Matrix"
   ]
  },
  {
   "cell_type": "code",
   "execution_count": 59,
   "id": "ad729222",
   "metadata": {},
   "outputs": [
    {
     "data": {
      "text/plain": [
       "array([[14693, 25453],\n",
       "       [ 3985, 35869]], dtype=int64)"
      ]
     },
     "execution_count": 59,
     "metadata": {},
     "output_type": "execute_result"
    }
   ],
   "source": [
    "from sklearn.metrics import confusion_matrix\n",
    "confusion_matrix(df_test.target, pred)"
   ]
  },
  {
   "cell_type": "code",
   "execution_count": 61,
   "id": "96c05040",
   "metadata": {
    "scrolled": true
   },
   "outputs": [
    {
     "data": {
      "text/plain": [
       "0.6042998367486137"
      ]
     },
     "execution_count": 61,
     "metadata": {},
     "output_type": "execute_result"
    }
   ],
   "source": [
    "from sklearn.metrics import f1_score\n",
    "f1_score(df_test.target, pred, average='macro')"
   ]
  },
  {
   "cell_type": "code",
   "execution_count": null,
   "id": "1bed9af5",
   "metadata": {},
   "outputs": [],
   "source": []
  }
 ],
 "metadata": {
  "kernelspec": {
   "display_name": "Python 3 (ipykernel)",
   "language": "python",
   "name": "python3"
  },
  "language_info": {
   "codemirror_mode": {
    "name": "ipython",
    "version": 3
   },
   "file_extension": ".py",
   "mimetype": "text/x-python",
   "name": "python",
   "nbconvert_exporter": "python",
   "pygments_lexer": "ipython3",
   "version": "3.9.7"
  }
 },
 "nbformat": 4,
 "nbformat_minor": 5
}
