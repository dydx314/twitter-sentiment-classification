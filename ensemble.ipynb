{
 "cells": [
  {
   "cell_type": "code",
   "execution_count": 1,
   "metadata": {},
   "outputs": [],
   "source": [
    "import pandas as pd"
   ]
  },
  {
   "cell_type": "code",
   "execution_count": 29,
   "metadata": {},
   "outputs": [],
   "source": [
    "TEST_DATA = 'data/test.80000.csv'\n",
    "df_test = pd.read_csv(TEST_DATA)\n",
    "X_test, y_test = df_test['text'], df_test['target']"
   ]
  },
  {
   "cell_type": "code",
   "execution_count": 18,
   "metadata": {},
   "outputs": [],
   "source": [
    "baseline = pd.read_csv('predictions/baseline.pred.80000.csv').rename(columns={'text': 'pred'})\n",
    "naivebayes = pd.read_csv('predictions/naivebayes.pred.80000.csv').rename(columns={'0': 'pred'})\n",
    "svm = pd.read_csv('predictions/svm.pred.80000.csv').rename(columns={'0': 'pred'})\n",
    "cnn = pd.read_csv('predictions/cnn.pred.80000.csv').rename(columns={'0': 'pred'})\n",
    "# TODO: add other model predictions"
   ]
  },
  {
   "cell_type": "code",
   "execution_count": 28,
   "metadata": {},
   "outputs": [],
   "source": [
    "ensemble_pred = round((naivebayes + baseline + svm + cnn) / 4)"
   ]
  },
  {
   "cell_type": "code",
   "execution_count": 31,
   "metadata": {},
   "outputs": [
    {
     "name": "stdout",
     "output_type": "stream",
     "text": [
      "              precision    recall  f1-score   support\n",
      "\n",
      "           0       0.78      0.83      0.80     40146\n",
      "           1       0.81      0.76      0.78     39854\n",
      "\n",
      "    accuracy                           0.79     80000\n",
      "   macro avg       0.79      0.79      0.79     80000\n",
      "weighted avg       0.79      0.79      0.79     80000\n",
      "\n"
     ]
    }
   ],
   "source": [
    "from sklearn.metrics import confusion_matrix, classification_report\n",
    "print(classification_report(y_test, ensemble_pred))\n",
    "\n",
    "# Compute and plot the Confusion matrix\n",
    "cf_matrix = confusion_matrix(y_test, ensemble_pred)"
   ]
  },
  {
   "cell_type": "code",
   "execution_count": 32,
   "metadata": {},
   "outputs": [
    {
     "data": {
      "text/plain": [
       "array([[33164,  6982],\n",
       "       [ 9617, 30237]], dtype=int64)"
      ]
     },
     "execution_count": 32,
     "metadata": {},
     "output_type": "execute_result"
    }
   ],
   "source": [
    "cf_matrix"
   ]
  },
  {
   "cell_type": "code",
   "execution_count": null,
   "metadata": {},
   "outputs": [],
   "source": []
  }
 ],
 "metadata": {
  "kernelspec": {
   "display_name": "Python 3",
   "language": "python",
   "name": "python3"
  },
  "language_info": {
   "codemirror_mode": {
    "name": "ipython",
    "version": 3
   },
   "file_extension": ".py",
   "mimetype": "text/x-python",
   "name": "python",
   "nbconvert_exporter": "python",
   "pygments_lexer": "ipython3",
   "version": "3.7.4"
  }
 },
 "nbformat": 4,
 "nbformat_minor": 4
}
